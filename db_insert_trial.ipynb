{
 "cells": [
  {
   "cell_type": "code",
   "execution_count": 1,
   "id": "f02417a1-bb0a-4663-8d10-3a04257684e4",
   "metadata": {},
   "outputs": [],
   "source": [
    "import json\n",
    "import MySQLdb"
   ]
  },
  {
   "cell_type": "code",
   "execution_count": 2,
   "id": "d865b100-8467-42d5-b4bb-d64f0776e2fb",
   "metadata": {},
   "outputs": [],
   "source": [
    "with open(\"sample.txt\", \"r\") as f:\n",
    "    data = json.loads(f.read())"
   ]
  },
  {
   "cell_type": "code",
   "execution_count": 3,
   "id": "2ab3e5d2-aad8-44c2-a8d3-f0cc81630dce",
   "metadata": {},
   "outputs": [
    {
     "data": {
      "text/plain": [
       "'Event Lyfe LLC .. Brand Ambassador: #visionarysociety Music Manager: @ssizzzlee & @tmoneybeatsbang Production🎥📸 #BringNyCultureBack 🌊🌊🌊 !!'"
      ]
     },
     "execution_count": 3,
     "metadata": {},
     "output_type": "execute_result"
    }
   ],
   "source": [
    "data[0]['user']['description']"
   ]
  },
  {
   "cell_type": "code",
   "execution_count": 4,
   "id": "abae64d4-9b47-456f-9ce5-98977f922b6b",
   "metadata": {},
   "outputs": [
    {
     "name": "stdout",
     "output_type": "stream",
     "text": [
      "iPhone\n"
     ]
    }
   ],
   "source": [
    "val4 = data[0]['source']\n",
    "sources = ['iPhone', 'Android', 'WebApp', 'Instagram']\n",
    "\n",
    "for source in sources:\n",
    "    if source in val4:\n",
    "        extracted_source = source\n",
    "        print(extracted_source)"
   ]
  },
  {
   "cell_type": "code",
   "execution_count": 5,
   "id": "2de8048c-63dd-47aa-930f-08af157114ae",
   "metadata": {},
   "outputs": [],
   "source": [
    "def extract_source(input_string):\n",
    "    sources = ['iPhone', 'Android', 'WebApp', 'Instagram']\n",
    "    \n",
    "    for source in sources:\n",
    "        if source in input_string:\n",
    "            extracted_source = source\n",
    "            return extracted_source"
   ]
  },
  {
   "cell_type": "code",
   "execution_count": 6,
   "id": "854d354e-8207-46fd-aff9-440dd918dd63",
   "metadata": {},
   "outputs": [
    {
     "data": {
      "text/plain": [
       "'iPhone'"
      ]
     },
     "execution_count": 6,
     "metadata": {},
     "output_type": "execute_result"
    }
   ],
   "source": [
    "extract_source(val4)"
   ]
  },
  {
   "cell_type": "code",
   "execution_count": 7,
   "id": "a4da8b63-0f80-4f83-9329-6ae0084b46e1",
   "metadata": {},
   "outputs": [],
   "source": [
    "# columns = ('created_at', 'id', 'id_str', 'source', 'truncated')\n",
    "val1 = data[0]['created_at']\n",
    "val2 = data[0]['id']\n",
    "val3 = data[0]['id_str']\n",
    "val4 = extract_source(data[0]['source'])\n",
    "val5 = data[0]['truncated']\n",
    "values = (val1, val2, val3, val4, val5)"
   ]
  },
  {
   "cell_type": "code",
   "execution_count": 8,
   "id": "33b7b7db-61e5-4c8d-97a2-f49491926c93",
   "metadata": {},
   "outputs": [
    {
     "data": {
      "text/plain": [
       "str"
      ]
     },
     "execution_count": 8,
     "metadata": {},
     "output_type": "execute_result"
    }
   ],
   "source": [
    "type(val1)"
   ]
  },
  {
   "cell_type": "code",
   "execution_count": 9,
   "id": "6fe2fc05-ca52-48c2-917c-a5b6d99b00e8",
   "metadata": {},
   "outputs": [],
   "source": [
    "user_id = data[0]['user']['id']\n",
    "user_id_str = data[0]['user']['id_str']\n",
    "user_name = data[0]['user']['name']\n",
    "screen_name = data[0]['user']['screen_name']"
   ]
  },
  {
   "cell_type": "code",
   "execution_count": 10,
   "id": "77f55b0e-0e30-456b-8757-89ae45c37d00",
   "metadata": {},
   "outputs": [],
   "source": [
    "val_list = []\n",
    "val_dict = {}\n",
    "\n",
    "for i in range(len(data)):\n",
    "    key_list = list(data[i]['user'].keys())\n",
    "    for key in key_list:\n",
    "        val_list.append(data[i]['user'][key])\n",
    "    val_dict[i] = tuple(val_list)"
   ]
  },
  {
   "cell_type": "code",
   "execution_count": 11,
   "id": "c47e6a1b-f53f-4272-8df4-018640494d36",
   "metadata": {},
   "outputs": [
    {
     "data": {
      "text/plain": [
       "(1242817830946508801,\n",
       " '1242817830946508801',\n",
       " 'juwelz v',\n",
       " 'juwelz_v',\n",
       " 'Lower East Side, Manhattan',\n",
       " 'https://linktr.ee/juwelzv',\n",
       " 'Event Lyfe LLC .. Brand Ambassador: #visionarysociety Music Manager: @ssizzzlee & @tmoneybeatsbang Production🎥📸 #BringNyCultureBack 🌊🌊🌊 !!',\n",
       " 'none',\n",
       " False,\n",
       " False,\n",
       " 43,\n",
       " 118,\n",
       " 0,\n",
       " 722,\n",
       " 906,\n",
       " 'Wed Mar 25 14:17:28 +0000 2020',\n",
       " None,\n",
       " None,\n",
       " False,\n",
       " None,\n",
       " False,\n",
       " False,\n",
       " 'F5F8FA',\n",
       " '',\n",
       " '',\n",
       " False,\n",
       " '1DA1F2',\n",
       " 'C0DEED',\n",
       " 'DDEEF6',\n",
       " '333333',\n",
       " True,\n",
       " 'http://pbs.twimg.com/profile_images/1246253579805089797/Ks1MrEDW_normal.jpg',\n",
       " 'https://pbs.twimg.com/profile_images/1246253579805089797/Ks1MrEDW_normal.jpg',\n",
       " 'https://pbs.twimg.com/profile_banners/1242817830946508801/1585146985',\n",
       " True,\n",
       " False,\n",
       " None,\n",
       " None,\n",
       " None)"
      ]
     },
     "execution_count": 11,
     "metadata": {},
     "output_type": "execute_result"
    }
   ],
   "source": [
    "val_dict[0]"
   ]
  },
  {
   "cell_type": "code",
   "execution_count": 12,
   "id": "de983148-ab5b-41d8-8cd3-e235bd56269a",
   "metadata": {},
   "outputs": [
    {
     "data": {
      "text/plain": [
       "dict_keys(['id', 'id_str', 'name', 'screen_name', 'location', 'url', 'description', 'translator_type', 'protected', 'verified', 'followers_count', 'friends_count', 'listed_count', 'favourites_count', 'statuses_count', 'created_at', 'utc_offset', 'time_zone', 'geo_enabled', 'lang', 'contributors_enabled', 'is_translator', 'profile_background_color', 'profile_background_image_url', 'profile_background_image_url_https', 'profile_background_tile', 'profile_link_color', 'profile_sidebar_border_color', 'profile_sidebar_fill_color', 'profile_text_color', 'profile_use_background_image', 'profile_image_url', 'profile_image_url_https', 'default_profile', 'default_profile_image', 'following', 'follow_request_sent', 'notifications'])"
      ]
     },
     "execution_count": 12,
     "metadata": {},
     "output_type": "execute_result"
    }
   ],
   "source": [
    "data[i]['user'].keys()"
   ]
  },
  {
   "cell_type": "code",
   "execution_count": null,
   "id": "a4bbbdff-5850-4c65-8a92-cbb01e4dad55",
   "metadata": {},
   "outputs": [],
   "source": []
  }
 ],
 "metadata": {
  "kernelspec": {
   "display_name": "Python 3 (ipykernel)",
   "language": "python",
   "name": "python3"
  },
  "language_info": {
   "codemirror_mode": {
    "name": "ipython",
    "version": 3
   },
   "file_extension": ".py",
   "mimetype": "text/x-python",
   "name": "python",
   "nbconvert_exporter": "python",
   "pygments_lexer": "ipython3",
   "version": "3.10.4"
  }
 },
 "nbformat": 4,
 "nbformat_minor": 5
}
