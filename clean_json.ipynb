{
 "cells": [
  {
   "cell_type": "code",
   "execution_count": 1,
   "id": "289de432-171d-4176-ad09-1bdb901edfe6",
   "metadata": {},
   "outputs": [],
   "source": [
    "import json\n",
    "import re"
   ]
  },
  {
   "cell_type": "code",
   "execution_count": 2,
   "id": "f0972112-3103-4606-bb31-843e4452d1f6",
   "metadata": {},
   "outputs": [],
   "source": [
    "# with open(\"sample.txt\", \"r\") as f:\n",
    "#     data = json.loads(f.read())"
   ]
  },
  {
   "cell_type": "code",
   "execution_count": 3,
   "id": "c7fb39c1-8792-44d9-a642-5c9ed80ce12a",
   "metadata": {},
   "outputs": [],
   "source": [
    "def make_json(filepath, output_filename=\"output_file.json\"):\n",
    "    with open(filepath, 'r') as f:\n",
    "        json_data = f.read()\n",
    "    \n",
    "    json_objects = []\n",
    "    brace_count = 0\n",
    "    start_index = None\n",
    "    for i, c in enumerate(json_data):\n",
    "        if c == '{':\n",
    "            brace_count += 1\n",
    "            if brace_count == 1:\n",
    "                start_index = i\n",
    "        elif c == '}':\n",
    "            brace_count -= 1\n",
    "            if brace_count == 0:\n",
    "                json_objects.append(json_data[start_index:i+1])\n",
    "\n",
    "    json_data = ','.join(json_objects)\n",
    "\n",
    "    data = json.loads('[' + json_data + ']')\n",
    "\n",
    "    with open(output_filename, 'w') as f:\n",
    "        json.dump(data, f)"
   ]
  },
  {
   "cell_type": "code",
   "execution_count": 4,
   "id": "e2725ddf-d36d-4429-afd2-96ef7d33daa3",
   "metadata": {},
   "outputs": [],
   "source": [
    "make_json(\"sample1.txt\")"
   ]
  },
  {
   "cell_type": "code",
   "execution_count": 5,
   "id": "01ef6f58-ce34-4b13-8385-3b093910cf3b",
   "metadata": {},
   "outputs": [],
   "source": [
    "with open('sample1.txt', 'r') as f:\n",
    "    json_data = f.read()\n",
    "    \n",
    "json_objects = []\n",
    "brace_count = 0\n",
    "start_index = None\n",
    "for i, c in enumerate(json_data):\n",
    "    if c == '{':\n",
    "        brace_count += 1\n",
    "        if brace_count == 1:\n",
    "            start_index = i\n",
    "    elif c == '}':\n",
    "        brace_count -= 1\n",
    "        if brace_count == 0:\n",
    "            json_objects.append(json_data[start_index:i+1])\n",
    "\n",
    "json_data = ','.join(json_objects)\n",
    "\n",
    "data = json.loads('[' + json_data + ']')\n",
    "\n",
    "with open('my_corrected_file.json', 'w') as f:\n",
    "    json.dump(data, f)"
   ]
  }
 ],
 "metadata": {
  "kernelspec": {
   "display_name": "Python 3 (ipykernel)",
   "language": "python",
   "name": "python3"
  },
  "language_info": {
   "codemirror_mode": {
    "name": "ipython",
    "version": 3
   },
   "file_extension": ".py",
   "mimetype": "text/x-python",
   "name": "python",
   "nbconvert_exporter": "python",
   "pygments_lexer": "ipython3",
   "version": "3.9.7"
  }
 },
 "nbformat": 4,
 "nbformat_minor": 5
}
