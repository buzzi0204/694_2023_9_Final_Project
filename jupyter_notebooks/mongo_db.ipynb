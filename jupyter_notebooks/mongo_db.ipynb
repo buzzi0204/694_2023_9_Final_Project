{
 "cells": [
  {
   "cell_type": "code",
   "execution_count": 2,
   "metadata": {},
   "outputs": [],
   "source": [
    "from pymongo import MongoClient\n",
    "import json"
   ]
  },
  {
   "cell_type": "code",
   "execution_count": 3,
   "metadata": {},
   "outputs": [
    {
     "name": "stdout",
     "output_type": "stream",
     "text": [
      "Connected successfully\n"
     ]
    }
   ],
   "source": [
    "#Connecting to database \n",
    "try:\n",
    "    conn = MongoClient()\n",
    "    print(\"Connected successfully\")\n",
    "except:  \n",
    "    print(\"Could not connect to MongoDB\")\n",
    "  \n",
    "# database\n",
    "db = conn.database\n",
    "collection = db.tweets_data"
   ]
  },
  {
   "cell_type": "code",
   "execution_count": 5,
   "metadata": {},
   "outputs": [],
   "source": [
    "with open(\"../json_files/sample_json_file.json\", \"r\") as f:\n",
    "    data = json.load(f)"
   ]
  },
  {
   "cell_type": "code",
   "execution_count": 6,
   "metadata": {},
   "outputs": [],
   "source": [
    "keys = ['id_str', 'text', 'created_at', 'entities', 'retweet_count', 'favorite_count', 'lang']"
   ]
  },
  {
   "cell_type": "code",
   "execution_count": null,
   "metadata": {},
   "outputs": [],
   "source": []
  },
  {
   "cell_type": "code",
   "execution_count": 12,
   "metadata": {},
   "outputs": [
    {
     "data": {
      "text/plain": [
       "1249403769193779202"
      ]
     },
     "execution_count": 12,
     "metadata": {},
     "output_type": "execute_result"
    }
   ],
   "source": [
    "index['id']"
   ]
  },
  {
   "cell_type": "code",
   "execution_count": 14,
   "metadata": {},
   "outputs": [
    {
     "ename": "DuplicateKeyError",
     "evalue": "E11000 duplicate key error collection: database.tweets_data index: _id_ dup key: { _id: 1249378751349231616 }",
     "output_type": "error",
     "traceback": [
      "\u001b[0;31m---------------------------------------------------------------------------\u001b[0m",
      "\u001b[0;31mDuplicateKeyError\u001b[0m                         Traceback (most recent call last)",
      "\u001b[1;32m/home/nik/Desktop/694_2023_9_Final_Project/jupyter_notebooks/mongo_db.ipynb Cell 7\u001b[0m in \u001b[0;36m<cell line: 21>\u001b[0;34m()\u001b[0m\n\u001b[1;32m     <a href='vscode-notebook-cell:/home/nik/Desktop/694_2023_9_Final_Project/jupyter_notebooks/mongo_db.ipynb#W4sZmlsZQ%3D%3D?line=21'>22</a>\u001b[0m \u001b[39mif\u001b[39;00m \u001b[39m'\u001b[39m\u001b[39mretweeted_status\u001b[39m\u001b[39m'\u001b[39m \u001b[39min\u001b[39;00m index\u001b[39m.\u001b[39mkeys():\n\u001b[1;32m     <a href='vscode-notebook-cell:/home/nik/Desktop/694_2023_9_Final_Project/jupyter_notebooks/mongo_db.ipynb#W4sZmlsZQ%3D%3D?line=22'>23</a>\u001b[0m     obj \u001b[39m=\u001b[39m mongo_insertor(index[\u001b[39m'\u001b[39m\u001b[39mretweeted_status\u001b[39m\u001b[39m'\u001b[39m], keys)\n\u001b[0;32m---> <a href='vscode-notebook-cell:/home/nik/Desktop/694_2023_9_Final_Project/jupyter_notebooks/mongo_db.ipynb#W4sZmlsZQ%3D%3D?line=23'>24</a>\u001b[0m     collection\u001b[39m.\u001b[39;49minsert_one(obj)\n\u001b[1;32m     <a href='vscode-notebook-cell:/home/nik/Desktop/694_2023_9_Final_Project/jupyter_notebooks/mongo_db.ipynb#W4sZmlsZQ%3D%3D?line=25'>26</a>\u001b[0m \u001b[39mif\u001b[39;00m \u001b[39m'\u001b[39m\u001b[39mquoted_status\u001b[39m\u001b[39m'\u001b[39m \u001b[39min\u001b[39;00m index\u001b[39m.\u001b[39mkeys():\n\u001b[1;32m     <a href='vscode-notebook-cell:/home/nik/Desktop/694_2023_9_Final_Project/jupyter_notebooks/mongo_db.ipynb#W4sZmlsZQ%3D%3D?line=26'>27</a>\u001b[0m     obj \u001b[39m=\u001b[39m mongo_insertor(index[\u001b[39m'\u001b[39m\u001b[39mquoted_status\u001b[39m\u001b[39m'\u001b[39m], keys)\n",
      "File \u001b[0;32m~/.local/lib/python3.10/site-packages/pymongo/collection.py:695\u001b[0m, in \u001b[0;36mCollection.insert_one\u001b[0;34m(self, document, bypass_document_validation, session)\u001b[0m\n\u001b[1;32m    691\u001b[0m     document[\u001b[39m\"\u001b[39m\u001b[39m_id\u001b[39m\u001b[39m\"\u001b[39m] \u001b[39m=\u001b[39m ObjectId()\n\u001b[1;32m    693\u001b[0m write_concern \u001b[39m=\u001b[39m \u001b[39mself\u001b[39m\u001b[39m.\u001b[39m_write_concern_for(session)\n\u001b[1;32m    694\u001b[0m \u001b[39mreturn\u001b[39;00m InsertOneResult(\n\u001b[0;32m--> 695\u001b[0m     \u001b[39mself\u001b[39;49m\u001b[39m.\u001b[39;49m_insert(document,\n\u001b[1;32m    696\u001b[0m                  write_concern\u001b[39m=\u001b[39;49mwrite_concern,\n\u001b[1;32m    697\u001b[0m                  bypass_doc_val\u001b[39m=\u001b[39;49mbypass_document_validation,\n\u001b[1;32m    698\u001b[0m                  session\u001b[39m=\u001b[39;49msession),\n\u001b[1;32m    699\u001b[0m     write_concern\u001b[39m.\u001b[39macknowledged)\n",
      "File \u001b[0;32m~/.local/lib/python3.10/site-packages/pymongo/collection.py:610\u001b[0m, in \u001b[0;36mCollection._insert\u001b[0;34m(self, docs, ordered, check_keys, manipulate, write_concern, op_id, bypass_doc_val, session)\u001b[0m\n\u001b[1;32m    608\u001b[0m \u001b[39m\"\"\"Internal insert helper.\"\"\"\u001b[39;00m\n\u001b[1;32m    609\u001b[0m \u001b[39mif\u001b[39;00m \u001b[39misinstance\u001b[39m(docs, abc\u001b[39m.\u001b[39mMapping):\n\u001b[0;32m--> 610\u001b[0m     \u001b[39mreturn\u001b[39;00m \u001b[39mself\u001b[39;49m\u001b[39m.\u001b[39;49m_insert_one(\n\u001b[1;32m    611\u001b[0m         docs, ordered, check_keys, manipulate, write_concern, op_id,\n\u001b[1;32m    612\u001b[0m         bypass_doc_val, session)\n\u001b[1;32m    614\u001b[0m ids \u001b[39m=\u001b[39m []\n\u001b[1;32m    616\u001b[0m \u001b[39mif\u001b[39;00m manipulate:\n",
      "File \u001b[0;32m~/.local/lib/python3.10/site-packages/pymongo/collection.py:599\u001b[0m, in \u001b[0;36mCollection._insert_one\u001b[0;34m(self, doc, ordered, check_keys, manipulate, write_concern, op_id, bypass_doc_val, session)\u001b[0m\n\u001b[1;32m    587\u001b[0m     result \u001b[39m=\u001b[39m sock_info\u001b[39m.\u001b[39mcommand(\n\u001b[1;32m    588\u001b[0m         \u001b[39mself\u001b[39m\u001b[39m.\u001b[39m__database\u001b[39m.\u001b[39mname,\n\u001b[1;32m    589\u001b[0m         command,\n\u001b[0;32m   (...)\u001b[0m\n\u001b[1;32m    594\u001b[0m         client\u001b[39m=\u001b[39m\u001b[39mself\u001b[39m\u001b[39m.\u001b[39m__database\u001b[39m.\u001b[39mclient,\n\u001b[1;32m    595\u001b[0m         retryable_write\u001b[39m=\u001b[39mretryable_write)\n\u001b[1;32m    597\u001b[0m     _check_write_command_response(result)\n\u001b[0;32m--> 599\u001b[0m \u001b[39mself\u001b[39;49m\u001b[39m.\u001b[39;49m__database\u001b[39m.\u001b[39;49mclient\u001b[39m.\u001b[39;49m_retryable_write(\n\u001b[1;32m    600\u001b[0m     acknowledged, _insert_command, session)\n\u001b[1;32m    602\u001b[0m \u001b[39mif\u001b[39;00m \u001b[39mnot\u001b[39;00m \u001b[39misinstance\u001b[39m(doc, RawBSONDocument):\n\u001b[1;32m    603\u001b[0m     \u001b[39mreturn\u001b[39;00m doc\u001b[39m.\u001b[39mget(\u001b[39m'\u001b[39m\u001b[39m_id\u001b[39m\u001b[39m'\u001b[39m)\n",
      "File \u001b[0;32m~/.local/lib/python3.10/site-packages/pymongo/mongo_client.py:1491\u001b[0m, in \u001b[0;36mMongoClient._retryable_write\u001b[0;34m(self, retryable, func, session)\u001b[0m\n\u001b[1;32m   1489\u001b[0m \u001b[39m\"\"\"Internal retryable write helper.\"\"\"\u001b[39;00m\n\u001b[1;32m   1490\u001b[0m \u001b[39mwith\u001b[39;00m \u001b[39mself\u001b[39m\u001b[39m.\u001b[39m_tmp_session(session) \u001b[39mas\u001b[39;00m s:\n\u001b[0;32m-> 1491\u001b[0m     \u001b[39mreturn\u001b[39;00m \u001b[39mself\u001b[39;49m\u001b[39m.\u001b[39;49m_retry_with_session(retryable, func, s, \u001b[39mNone\u001b[39;49;00m)\n",
      "File \u001b[0;32m~/.local/lib/python3.10/site-packages/pymongo/mongo_client.py:1384\u001b[0m, in \u001b[0;36mMongoClient._retry_with_session\u001b[0;34m(self, retryable, func, session, bulk)\u001b[0m\n\u001b[1;32m   1382\u001b[0m                 \u001b[39mraise\u001b[39;00m last_error\n\u001b[1;32m   1383\u001b[0m             retryable \u001b[39m=\u001b[39m \u001b[39mFalse\u001b[39;00m\n\u001b[0;32m-> 1384\u001b[0m         \u001b[39mreturn\u001b[39;00m func(session, sock_info, retryable)\n\u001b[1;32m   1385\u001b[0m \u001b[39mexcept\u001b[39;00m ServerSelectionTimeoutError:\n\u001b[1;32m   1386\u001b[0m     \u001b[39mif\u001b[39;00m is_retrying():\n\u001b[1;32m   1387\u001b[0m         \u001b[39m# The application may think the write was never attempted\u001b[39;00m\n\u001b[1;32m   1388\u001b[0m         \u001b[39m# if we raise ServerSelectionTimeoutError on the retry\u001b[39;00m\n\u001b[1;32m   1389\u001b[0m         \u001b[39m# attempt. Raise the original exception instead.\u001b[39;00m\n",
      "File \u001b[0;32m~/.local/lib/python3.10/site-packages/pymongo/collection.py:597\u001b[0m, in \u001b[0;36mCollection._insert_one.<locals>._insert_command\u001b[0;34m(session, sock_info, retryable_write)\u001b[0m\n\u001b[1;32m    585\u001b[0m     command[\u001b[39m'\u001b[39m\u001b[39mbypassDocumentValidation\u001b[39m\u001b[39m'\u001b[39m] \u001b[39m=\u001b[39m \u001b[39mTrue\u001b[39;00m\n\u001b[1;32m    587\u001b[0m result \u001b[39m=\u001b[39m sock_info\u001b[39m.\u001b[39mcommand(\n\u001b[1;32m    588\u001b[0m     \u001b[39mself\u001b[39m\u001b[39m.\u001b[39m__database\u001b[39m.\u001b[39mname,\n\u001b[1;32m    589\u001b[0m     command,\n\u001b[0;32m   (...)\u001b[0m\n\u001b[1;32m    594\u001b[0m     client\u001b[39m=\u001b[39m\u001b[39mself\u001b[39m\u001b[39m.\u001b[39m__database\u001b[39m.\u001b[39mclient,\n\u001b[1;32m    595\u001b[0m     retryable_write\u001b[39m=\u001b[39mretryable_write)\n\u001b[0;32m--> 597\u001b[0m _check_write_command_response(result)\n",
      "File \u001b[0;32m~/.local/lib/python3.10/site-packages/pymongo/helpers.py:221\u001b[0m, in \u001b[0;36m_check_write_command_response\u001b[0;34m(result)\u001b[0m\n\u001b[1;32m    219\u001b[0m write_errors \u001b[39m=\u001b[39m result\u001b[39m.\u001b[39mget(\u001b[39m\"\u001b[39m\u001b[39mwriteErrors\u001b[39m\u001b[39m\"\u001b[39m)\n\u001b[1;32m    220\u001b[0m \u001b[39mif\u001b[39;00m write_errors:\n\u001b[0;32m--> 221\u001b[0m     _raise_last_write_error(write_errors)\n\u001b[1;32m    223\u001b[0m error \u001b[39m=\u001b[39m result\u001b[39m.\u001b[39mget(\u001b[39m\"\u001b[39m\u001b[39mwriteConcernError\u001b[39m\u001b[39m\"\u001b[39m)\n\u001b[1;32m    224\u001b[0m \u001b[39mif\u001b[39;00m error:\n",
      "File \u001b[0;32m~/.local/lib/python3.10/site-packages/pymongo/helpers.py:202\u001b[0m, in \u001b[0;36m_raise_last_write_error\u001b[0;34m(write_errors)\u001b[0m\n\u001b[1;32m    200\u001b[0m error \u001b[39m=\u001b[39m write_errors[\u001b[39m-\u001b[39m\u001b[39m1\u001b[39m]\n\u001b[1;32m    201\u001b[0m \u001b[39mif\u001b[39;00m error\u001b[39m.\u001b[39mget(\u001b[39m\"\u001b[39m\u001b[39mcode\u001b[39m\u001b[39m\"\u001b[39m) \u001b[39m==\u001b[39m \u001b[39m11000\u001b[39m:\n\u001b[0;32m--> 202\u001b[0m     \u001b[39mraise\u001b[39;00m DuplicateKeyError(error\u001b[39m.\u001b[39mget(\u001b[39m\"\u001b[39m\u001b[39merrmsg\u001b[39m\u001b[39m\"\u001b[39m), \u001b[39m11000\u001b[39m, error)\n\u001b[1;32m    203\u001b[0m \u001b[39mraise\u001b[39;00m WriteError(error\u001b[39m.\u001b[39mget(\u001b[39m\"\u001b[39m\u001b[39merrmsg\u001b[39m\u001b[39m\"\u001b[39m), error\u001b[39m.\u001b[39mget(\u001b[39m\"\u001b[39m\u001b[39mcode\u001b[39m\u001b[39m\"\u001b[39m), error)\n",
      "\u001b[0;31mDuplicateKeyError\u001b[0m: E11000 duplicate key error collection: database.tweets_data index: _id_ dup key: { _id: 1249378751349231616 }"
     ]
    }
   ],
   "source": [
    "def mongo_insertor(index, keys):\n",
    "    \"\"\"AI is creating summary for mongo_insertor\n",
    "\n",
    "    Args:\n",
    "        index ([type]): [description]\n",
    "        keys ([type]): [description]\n",
    "\n",
    "    Returns:\n",
    "        [type]: [description]\n",
    "    \"\"\"\n",
    "    obj = {\n",
    "        \"_id\": index['id']\n",
    "        }\n",
    "    for key in keys:\n",
    "        obj[key] = index[key]\n",
    "    \n",
    "    obj['user_id'] = index['user']['id']\n",
    "    return obj\n",
    "\n",
    "\n",
    "for index in data:\n",
    "    if 'retweeted_status' in index.keys():\n",
    "        obj = mongo_insertor(index['retweeted_status'], keys)\n",
    "        try:\n",
    "            collection.insert_one(obj)\n",
    "        except Exception as e:\n",
    "            print(e)\n",
    "            pass\n",
    "        \n",
    "    if 'quoted_status' in index.keys():\n",
    "        obj = mongo_insertor(index['quoted_status'], keys)\n",
    "        try:\n",
    "            collection.insert_one(obj)\n",
    "        except Exception as e:\n",
    "            print(e)\n",
    "            pass\n",
    "    \n",
    "    \n",
    "    obj = mongo_insertor(index, keys)\n",
    "    try:\n",
    "        collection.insert_one(obj)\n",
    "    except Exception as e:\n",
    "        print(e)\n",
    "        pass"
   ]
  }
 ],
 "metadata": {
  "kernelspec": {
   "display_name": "Python 3",
   "language": "python",
   "name": "python3"
  },
  "language_info": {
   "codemirror_mode": {
    "name": "ipython",
    "version": 3
   },
   "file_extension": ".py",
   "mimetype": "text/x-python",
   "name": "python",
   "nbconvert_exporter": "python",
   "pygments_lexer": "ipython3",
   "version": "3.10.6"
  },
  "orig_nbformat": 4
 },
 "nbformat": 4,
 "nbformat_minor": 2
}
