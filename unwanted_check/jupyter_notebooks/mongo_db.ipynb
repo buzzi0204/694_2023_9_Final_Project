{
 "cells": [
  {
   "cell_type": "code",
   "execution_count": 1,
   "metadata": {},
   "outputs": [],
   "source": [
    "from pymongo import MongoClient\n",
    "import json\n",
    "from bson import Int64"
   ]
  },
  {
   "cell_type": "code",
   "execution_count": 2,
   "metadata": {},
   "outputs": [
    {
     "name": "stdout",
     "output_type": "stream",
     "text": [
      "Connected successfully\n"
     ]
    }
   ],
   "source": [
    "#Connecting to database \n",
    "try:\n",
    "    conn = MongoClient()\n",
    "    print(\"Connected successfully\")\n",
    "except:  \n",
    "    print(\"Could not connect to MongoDB\")\n",
    "  \n",
    "# database\n",
    "db = conn.database\n",
    "collection = db.tweets_data"
   ]
  },
  {
   "cell_type": "code",
   "execution_count": 4,
   "metadata": {},
   "outputs": [],
   "source": [
    "with open(\"../json_files/corona-out-2.json\", \"r\") as f:\n",
    "    data = json.load(f) "
   ]
  },
  {
   "cell_type": "code",
   "execution_count": 7,
   "metadata": {},
   "outputs": [],
   "source": [
    "keys = ['id', 'id_str', 'text', 'created_at', 'is_quote_status','qoute_count', 'reply_count', 'entities', 'retweet_count', 'favorite_count', 'lang', 'timestamp_ms', 'geo']"
   ]
  },
  {
   "cell_type": "code",
   "execution_count": 8,
   "metadata": {},
   "outputs": [],
   "source": [
    "def extract_source(input_string):\n",
    "    sources = ['iPhone', 'Android', 'WebApp', 'Instagram']\n",
    "    \n",
    "    for source in sources:\n",
    "        if source in input_string:\n",
    "            extracted_source = source\n",
    "            return extracted_source"
   ]
  },
  {
   "cell_type": "code",
   "execution_count": 9,
   "metadata": {},
   "outputs": [],
   "source": [
    "def mongo_insertor(index, keys):\n",
    "    \"\"\"\n",
    "\n",
    "    Args:\n",
    "        index ([type]): [description]\n",
    "        keys ([type]): [description]\n",
    "\n",
    "    Returns:\n",
    "        [type]: [description]\n",
    "    \"\"\"\n",
    "    obj = {\n",
    "        \"_id\": Int64(index['id']), \n",
    "        \"source\": extract_source(index['source'])\n",
    "        }\n",
    "        \n",
    "\n",
    "    for key in keys:\n",
    "        try:\n",
    "            obj[key] = index[key]\n",
    "        except:\n",
    "            pass\n",
    "\n",
    "    if 'extended_tweet' in index.keys():\n",
    "        obj['text'] = index['extended_tweet']['full_text']\n",
    "    \n",
    "    \n",
    "    obj['user_id'] = Int64(index['user']['id'])\n",
    "\n",
    "    obj['popularity'] = index['quote_count'] + index['reply_count'] + index['retweet_count'] + index['favorite_count']\n",
    "    return obj\n",
    "\n"
   ]
  },
  {
   "cell_type": "code",
   "execution_count": 24,
   "metadata": {},
   "outputs": [],
   "source": [
    "for index in data:\n",
    "    if 'retweeted_status' in index.keys():\n",
    "        obj = mongo_insertor(index['retweeted_status'], keys)\n",
    "        try:\n",
    "            collection.insert_one(obj)\n",
    "        except Exception as e:\n",
    "            print(e)\n",
    "            pass\n",
    "        \n",
    "    if 'quoted_status' in index.keys():\n",
    "        obj = mongo_insertor(index['quoted_status'], keys)\n",
    "        try:\n",
    "            collection.insert_one(obj)\n",
    "        except Exception as e:\n",
    "            print(e)\n",
    "            pass\n",
    "    \n",
    "    \n",
    "    obj = mongo_insertor(index, keys)\n",
    "    try:\n",
    "        collection.insert_one(obj)\n",
    "    except Exception as e:\n",
    "        print(e)\n",
    "        pass"
   ]
  }
 ],
 "metadata": {
  "kernelspec": {
   "display_name": "Python 3",
   "language": "python",
   "name": "python3"
  },
  "language_info": {
   "codemirror_mode": {
    "name": "ipython",
    "version": 3
   },
   "file_extension": ".py",
   "mimetype": "text/x-python",
   "name": "python",
   "nbconvert_exporter": "python",
   "pygments_lexer": "ipython3",
   "version": "3.9.7"
  },
  "orig_nbformat": 4
 },
 "nbformat": 4,
 "nbformat_minor": 2
}
